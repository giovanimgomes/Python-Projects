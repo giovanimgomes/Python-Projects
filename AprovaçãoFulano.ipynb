{
  "nbformat": 4,
  "nbformat_minor": 0,
  "metadata": {
    "colab": {
      "name": "Notas do Fulano.ipynb",
      "provenance": [],
      "collapsed_sections": [],
      "authorship_tag": "ABX9TyMvgTrjfjd0FHgRkLkfrJaJ",
      "include_colab_link": true
    },
    "kernelspec": {
      "name": "python3",
      "display_name": "Python 3"
    },
    "language_info": {
      "name": "python"
    }
  },
  "cells": [
    {
      "cell_type": "markdown",
      "metadata": {
        "id": "view-in-github",
        "colab_type": "text"
      },
      "source": [
        "<a href=\"https://colab.research.google.com/github/giovanimgomes/Python-Projects/blob/main/Aprova%C3%A7%C3%A3oFulano.ipynb\" target=\"_parent\"><img src=\"https://colab.research.google.com/assets/colab-badge.svg\" alt=\"Open In Colab\"/></a>"
      ]
    },
    {
      "cell_type": "code",
      "metadata": {
        "colab": {
          "base_uri": "https://localhost:8080/",
          "height": 451
        },
        "id": "PLK44BoxGcwG",
        "outputId": "a3241992-ffd7-4180-96c9-6dc470ec84e8"
      },
      "source": [
        "import matplotlib.pyplot as plt\n",
        "\n",
        "def aprovacao(notas): #função que calcula a média e se o fulano foi aprovado ou não\n",
        "  soma = 0\n",
        "  contador = 0\n",
        "  print('Média para passar de ano: 6')\n",
        "\n",
        "  for valorindex in notas:\n",
        " \n",
        "    soma = valorindex + soma #soma das notas para fazer a media\n",
        "    contador = contador + 1 #contador para verificar quantas interações ocorreram\n",
        "\n",
        "    if valorindex >= 6:\n",
        "       print(f'Nota da {contador}º prova: {valorindex}, Acima da media')\n",
        "    else:\n",
        "      print(f'Nota da {contador}º prova: {valorindex}, Abaixo da media')\n",
        "    \n",
        "  media = soma/contador   #calcula a media do Fulano \n",
        "  media = round(media, 1) #arrendonda a media para apenas 1 casa decimal\n",
        "\n",
        "  if media >= 6:\n",
        "     print(f'Sua média final foi {media} e portanto você foi APROVADO')\n",
        "  else:\n",
        "     print(f'Sua média final foi {media}, portanto você foi REPROVADO')\n",
        "\n",
        "def cadastrar_notas(notas, qtdprovas): #função que define quantas provas ocorreram e suas notas\n",
        "  contador = 0 #contador para calcular interações\n",
        "  qtdprovas = input(\"Quantas provas fulano fez? \") #insere a quantidade de provas que ocorreram\n",
        "  qtdprovas = int(qtdprovas)\n",
        "\n",
        "  while (contador < qtdprovas):\n",
        "    contador = contador + 1\n",
        "    elemento = int(input(f'Insira a {contador}º nota do fulano ')) #insere a nota do aluno na sequencia em que ocorreram as provas\n",
        "    notas.append(elemento) #insere na lista a nota do Fulano\n",
        "  \n",
        "  return qtdprovas\n",
        "\n",
        "def main(): #função principal que organiza tudo\n",
        "    notas = [] #incializa notas\n",
        "    qtdprovas = 0 #inicializa quantidade de provas\n",
        "\n",
        "    qtdprovas = cadastrar_notas(notas, qtdprovas)\n",
        "    #cadastrar_notas(notas, qtdnotas)\n",
        "    aprovacao(notas)\n",
        "    \n",
        "    x = range(1, qtdprovas + 1) # eixo 'x' => quantidade de provas \n",
        "    y = notas #eixo 'y' => nota que fulano tirou\n",
        "\n",
        "    plt.plot(x, y, marker = 'o')\n",
        "    plt.xlabel('provas')\n",
        "    plt.ylabel('notas')\n",
        "    plt.title('Notas do Fulano')\n",
        "    plt.grid(True)\n",
        "    plt.show()\n",
        "\n",
        "main()\n",
        "\n",
        "\n"
      ],
      "execution_count": 2,
      "outputs": [
        {
          "output_type": "stream",
          "name": "stdout",
          "text": [
            "Quantas provas fulano fez? 3\n",
            "Insira a 1º nota do fulano 7\n",
            "Insira a 2º nota do fulano 8\n",
            "Insira a 3º nota do fulano 7\n",
            "Média para passar de ano: 6\n",
            "Nota da 1º prova: 7, Acima da media\n",
            "Nota da 2º prova: 8, Acima da media\n",
            "Nota da 3º prova: 7, Acima da media\n",
            "Sua média final foi 7.3 e portanto você foi APROVADO\n"
          ]
        },
        {
          "output_type": "display_data",
          "data": {
            "image/png": "[encoded data removed]",
            "text/plain": [
              "<Figure size 432x288 with 1 Axes>"
            ]
          },
          "metadata": {
            "needs_background": "light"
          }
        }
      ]
    },
    {
      "cell_type": "code",
      "metadata": {
        "id": "FAFCrFOlLDEE"
      },
      "source": [
        ""
      ],
      "execution_count": null,
      "outputs": []
    }
  ]
}